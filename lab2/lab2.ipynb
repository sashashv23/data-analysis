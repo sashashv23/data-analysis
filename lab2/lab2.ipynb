{
 "cells": [
  {
   "cell_type": "markdown",
   "metadata": {},
   "source": [
    "<h3>ФБ-31 Шваюк Олександра. Лабораторна робота №2</h3>"
   ]
  },
  {
   "cell_type": "markdown",
   "metadata": {},
   "source": [
    "##### Ініціалізація та перевірка середовища"
   ]
  },
  {
   "cell_type": "code",
   "execution_count": 5,
   "metadata": {},
   "outputs": [
    {
     "name": "stdout",
     "output_type": "stream",
     "text": [
      "Setup ok\n"
     ]
    }
   ],
   "source": [
    "import datetime\n",
    "import os\n",
    "import urllib\n",
    "import pandas as pd\n",
    "import glob\n",
    "\n",
    "\n",
    "print(\"Setup ok\")"
   ]
  },
  {
   "cell_type": "markdown",
   "metadata": {},
   "source": [
    "#### Завантаження тестових структурованих файлів, що містять значення VHI-індексу."
   ]
  },
  {
   "cell_type": "code",
   "execution_count": 69,
   "metadata": {},
   "outputs": [],
   "source": [
    "import os\n",
    "import urllib.request\n",
    "import datetime\n",
    "\n",
    "def load_data(province_code):\n",
    "    # Встановлення базового шляху для збереження файлів\n",
    "    base_folder = 'vhi_data'\n",
    "    if not os.path.isdir(base_folder):\n",
    "        os.makedirs(base_folder)\n",
    "\n",
    "    # Формуємо ім'я файлу для збереження даних\n",
    "    current_date = datetime.datetime.now().strftime('%Y-%m-%d_%H-%M')\n",
    "    file_name = f'vhi_id__{province_code}__{current_date}.csv'\n",
    "    file_path = os.path.join(base_folder, file_name)\n",
    "\n",
    "    # URL для отримання даних\n",
    "    url = f\"https://www.star.nesdis.noaa.gov/smcd/emb/vci/VH/get_TS_admin.php?country=UKR&provinceID={province_code}&year1=1981&year2=2025&type=Mean\"\n",
    "\n",
    "    # Перевірка, чи вже завантажені дані для цієї області\n",
    "    files_in_folder = [f for f in os.listdir(base_folder) if f.startswith(f'vhi_id__{province_code}__')]\n",
    "    if files_in_folder:\n",
    "        print(f\"Дані для області {province_code} вже завантажені. Пропускаємо завантаження.\")\n",
    "        return\n",
    "\n",
    "    # Завантаження даних за допомогою URL\n",
    "    try:\n",
    "        response = urllib.request.urlopen(url)\n",
    "        data = response.read()\n",
    "\n",
    "        # Збереження завантажених даних у файл\n",
    "        with open(file_path, 'wb') as file:\n",
    "            file.write(data)\n",
    "        print(f\"Дані VHI успішно завантажено у файл: {file_path}\")\n",
    "\n",
    "    except Exception as e:\n",
    "        print(f\"Не вдалося завантажити дані для області {province_code}: {e}\")"
   ]
  },
  {
   "cell_type": "code",
   "execution_count": 70,
   "metadata": {},
   "outputs": [
    {
     "name": "stdout",
     "output_type": "stream",
     "text": [
      "Дані VHI успішно завантажено у файл: vhi_data\\vhi_id__1__2025-02-18_18-33.csv\n",
      "Дані VHI успішно завантажено у файл: vhi_data\\vhi_id__2__2025-02-18_18-33.csv\n",
      "Дані VHI успішно завантажено у файл: vhi_data\\vhi_id__3__2025-02-18_18-33.csv\n",
      "Дані VHI успішно завантажено у файл: vhi_data\\vhi_id__4__2025-02-18_18-33.csv\n",
      "Дані VHI успішно завантажено у файл: vhi_data\\vhi_id__5__2025-02-18_18-33.csv\n",
      "Дані VHI успішно завантажено у файл: vhi_data\\vhi_id__6__2025-02-18_18-33.csv\n",
      "Дані VHI успішно завантажено у файл: vhi_data\\vhi_id__7__2025-02-18_18-33.csv\n",
      "Дані VHI успішно завантажено у файл: vhi_data\\vhi_id__8__2025-02-18_18-33.csv\n",
      "Дані VHI успішно завантажено у файл: vhi_data\\vhi_id__9__2025-02-18_18-33.csv\n",
      "Дані VHI успішно завантажено у файл: vhi_data\\vhi_id__10__2025-02-18_18-33.csv\n",
      "Дані VHI успішно завантажено у файл: vhi_data\\vhi_id__11__2025-02-18_18-33.csv\n",
      "Дані VHI успішно завантажено у файл: vhi_data\\vhi_id__12__2025-02-18_18-33.csv\n",
      "Дані VHI успішно завантажено у файл: vhi_data\\vhi_id__13__2025-02-18_18-33.csv\n",
      "Дані VHI успішно завантажено у файл: vhi_data\\vhi_id__14__2025-02-18_18-33.csv\n",
      "Дані VHI успішно завантажено у файл: vhi_data\\vhi_id__15__2025-02-18_18-34.csv\n",
      "Дані VHI успішно завантажено у файл: vhi_data\\vhi_id__16__2025-02-18_18-34.csv\n",
      "Дані VHI успішно завантажено у файл: vhi_data\\vhi_id__17__2025-02-18_18-34.csv\n",
      "Дані VHI успішно завантажено у файл: vhi_data\\vhi_id__18__2025-02-18_18-34.csv\n",
      "Дані VHI успішно завантажено у файл: vhi_data\\vhi_id__19__2025-02-18_18-34.csv\n",
      "Дані VHI успішно завантажено у файл: vhi_data\\vhi_id__20__2025-02-18_18-34.csv\n",
      "Дані VHI успішно завантажено у файл: vhi_data\\vhi_id__21__2025-02-18_18-34.csv\n",
      "Дані VHI успішно завантажено у файл: vhi_data\\vhi_id__22__2025-02-18_18-34.csv\n",
      "Дані VHI успішно завантажено у файл: vhi_data\\vhi_id__23__2025-02-18_18-34.csv\n",
      "Дані VHI успішно завантажено у файл: vhi_data\\vhi_id__24__2025-02-18_18-34.csv\n",
      "Дані VHI успішно завантажено у файл: vhi_data\\vhi_id__25__2025-02-18_18-34.csv\n",
      "Дані VHI успішно завантажено у файл: vhi_data\\vhi_id__26__2025-02-18_18-34.csv\n",
      "Дані VHI успішно завантажено у файл: vhi_data\\vhi_id__27__2025-02-18_18-34.csv\n"
     ]
    }
   ],
   "source": [
    "for i in range(1,28):\n",
    "   load_data(i)"
   ]
  },
  {
   "cell_type": "markdown",
   "metadata": {},
   "source": [
    "#### Встановлення відповідності регіонів за номерами з таблиці"
   ]
  },
  {
   "cell_type": "code",
   "execution_count": 132,
   "metadata": {},
   "outputs": [],
   "source": [
    "regions_true_id = {\n",
    "    1: 'Вінницька',  2: 'Волинська',  3: 'Дніпропетровська',  4: 'Донецька',  5: 'Житомирська',\n",
    "    6: 'Закарпатська',  7: 'Запорізька',  8: 'Івано-Франківська',  9: 'Київська',  10: 'Кіровоградська',\n",
    "    11: 'Луганська',  12: 'Львівська',  13: 'Миколаївська',  14: 'Одеська',  15: 'Полтавська',\n",
    "    16: 'Рівненська',  17: 'Сумська',  18: 'Тернопільська',  19: 'Харківська',  20: 'Херсонська',\n",
    "    21: 'Хмельницька',  22: 'Черкаська',  23: 'Чернівецька',  24: 'Чернігівська',  25: 'Республіка Крим'\n",
    "}"
   ]
  },
  {
   "cell_type": "code",
   "execution_count": 133,
   "metadata": {},
   "outputs": [
    {
     "name": "stdout",
     "output_type": "stream",
     "text": [
      "Область 1: Вінницька\n",
      "Область 2: Волинська\n",
      "Область 3: Дніпропетровська\n",
      "Область 4: Донецька\n",
      "Область 5: Житомирська\n",
      "Область 6: Закарпатська\n",
      "Область 7: Запорізька\n",
      "Область 8: Івано-Франківська\n",
      "Область 9: Київська\n",
      "Область 10: Кіровоградська\n",
      "Область 11: Луганська\n",
      "Область 12: Львівська\n",
      "Область 13: Миколаївська\n",
      "Область 14: Одеська\n",
      "Область 15: Полтавська\n",
      "Область 16: Рівненська\n",
      "Область 17: Сумська\n",
      "Область 18: Тернопільська\n",
      "Область 19: Харківська\n",
      "Область 20: Херсонська\n",
      "Область 21: Хмельницька\n",
      "Область 22: Черкаська\n",
      "Область 23: Чернівецька\n",
      "Область 24: Чернігівська\n",
      "Область 25: Республіка Крим\n"
     ]
    }
   ],
   "source": [
    "for region_id, region_name in regions_true_id.items():\n",
    "    print(f\"Область {region_id}: {region_name}\")"
   ]
  },
  {
   "cell_type": "markdown",
   "metadata": {},
   "source": [
    "#### Зчитування завантажених текстових файлів у фрейм"
   ]
  },
  {
   "cell_type": "code",
   "execution_count": 103,
   "metadata": {},
   "outputs": [],
   "source": [
    "def data_frame(folder_path):\n",
    "    def process_csv(file_path):\n",
    "        region_num = int(file_path.split('__')[1])\n",
    "        data = pd.read_csv(file_path, header=1, names=columns)\n",
    "        data.at[0, 'Year'] = data.at[0, 'Year'][9:]\n",
    "        data = data.drop(data.index[-1])\n",
    "        data = data[data['VHI'] != -1]\n",
    "        data = data.drop(columns=['empty'])\n",
    "        data.insert(0, 'region_num', region_num, True)\n",
    "        data['Week'] = data['Week'].astype(int)\n",
    "        return data\n",
    "\n",
    "    columns = ['Year', 'Week', 'SMN', 'SMT', 'VCI', 'TCI', 'VHI', 'empty']\n",
    "    csv_files = glob.glob(f\"{folder_path}/*.csv\")\n",
    "    data_frames = [process_csv(file) for file in csv_files]\n",
    "\n",
    "    combined_data = pd.concat(data_frames).drop_duplicates().reset_index(drop=True)\n",
    "    combined_data = combined_data[~combined_data.region_num.isin([12, 20])]\n",
    "    \n",
    "    region_translation = {\n",
    "        1: 22, 2: 24, 3: 23, 4: 25, 5: 3, 6: 4, 7: 8, 8: 19, 9: 20, 10: 21,\n",
    "        11: 9, 13: 10, 14: 11, 15: 12, 16: 13, 17: 14, 18: 15, 19: 16, 21: 17,\n",
    "        22: 18, 23: 6, 24: 1, 25: 2, 26: 6, 27: 5\n",
    "    }\n",
    "    combined_data['region_num'] = combined_data['region_num'].replace(region_translation)\n",
    "\n",
    "    return combined_data\n"
   ]
  },
  {
   "cell_type": "code",
   "execution_count": 104,
   "metadata": {},
   "outputs": [
    {
     "name": "stdout",
     "output_type": "stream",
     "text": [
      "    region_num  Year  Week    SMN     SMT    VCI    TCI    VHI\n",
      "0           21  1982     1  0.059  258.24  51.11  48.78  49.95\n",
      "1           21  1982     2  0.063  261.53  55.89  38.20  47.04\n",
      "2           21  1982     3  0.063  263.45  57.30  32.69  44.99\n",
      "3           21  1982     4  0.061  265.10  53.96  28.62  41.29\n",
      "4           21  1982     5  0.058  266.42  46.87  28.57  37.72\n",
      "5           21  1982     6  0.056  267.47  39.55  30.27  34.91\n",
      "6           21  1982     7  0.055  268.58  35.19  31.10  33.14\n",
      "7           21  1982     8  0.057  270.15  33.35  32.09  32.72\n",
      "8           21  1982     9  0.057  271.60  30.82  34.71  32.77\n",
      "9           21  1982    10  0.057  273.10  27.66  36.79  32.23\n",
      "10          21  1982    11  0.063  275.28  26.28  34.48  30.38\n",
      "11          21  1982    12  0.074  277.68  25.86  36.39  31.12\n",
      "12          21  1982    13  0.085  279.65  22.76  40.53  31.65\n",
      "13          21  1982    14  0.098  281.32  18.26  46.96  32.61\n",
      "14          21  1982    15  0.107  282.33  11.26  59.73  35.49\n",
      "15          21  1982    16  0.129  284.00   9.15  69.23  39.19\n",
      "16          21  1982    17  0.161  286.23  10.63  71.64  41.14\n",
      "17          21  1982    18  0.203  288.95  15.19  63.82  39.50\n",
      "18          21  1982    19  0.252  291.41  20.85  53.29  37.07\n",
      "19          21  1982    20  0.299  292.91  25.37  50.39  37.88\n"
     ]
    }
   ],
   "source": [
    "resultdf = data_frame('vhi_data')\n",
    "\n",
    "print(resultdf.head(20))"
   ]
  },
  {
   "cell_type": "markdown",
   "metadata": {},
   "source": [
    "#### Вибірка: Ряд VHI для області за вказаний рік"
   ]
  },
  {
   "cell_type": "code",
   "execution_count": 116,
   "metadata": {},
   "outputs": [],
   "source": [
    "def get_vhi_for_region_year(folder_path, region_num, year):\n",
    "    combined_data = data_frame(folder_path)  # Отримуємо всі дані одним викликом\n",
    "    \n",
    "    # Фільтруємо тільки потрібний регіон і рік\n",
    "    vhi_data = combined_data[(combined_data['region_num'] == region_num) & (combined_data['Year'].astype(int) == year)]\n",
    "    \n",
    "    if vhi_data.empty:\n",
    "        print(f\"Немає даних VHI для області {region_num} за {year} рік.\")\n",
    "        return None\n",
    "    \n",
    "    return vhi_data[['Year', 'Week', 'VHI']]"
   ]
  },
  {
   "cell_type": "code",
   "execution_count": 118,
   "metadata": {},
   "outputs": [
    {
     "name": "stdout",
     "output_type": "stream",
     "text": [
      "      Year  Week    VHI\n",
      "2186  2025     1  41.80\n",
      "2187  2025     2  44.23\n",
      "2188  2025     3  45.71\n",
      "2189  2025     4  46.91\n",
      "2190  2025     5  47.34\n",
      "2191  2025     6  47.38\n"
     ]
    }
   ],
   "source": [
    "result = get_vhi_for_region_year('vhi_data', 21, 2025)\n",
    "print(result.head(10))"
   ]
  },
  {
   "cell_type": "markdown",
   "metadata": {},
   "source": [
    "#### Вибірка: Пошук екстремумів (min та max) для вказаних областей та років, середнього, медіани"
   ]
  },
  {
   "cell_type": "code",
   "execution_count": 147,
   "metadata": {},
   "outputs": [],
   "source": [
    "def calculate_extremes_and_statistics(vhi_data, region_num):\n",
    "    # Якщо дані є\n",
    "    if vhi_data is not None and not vhi_data.empty:\n",
    "        # Отримуємо назву області\n",
    "        region_name = regions_true_id.get(region_num, \"Невідома область\")\n",
    "\n",
    "        # Розрахунок мінімуму та максимуму\n",
    "        vhi_min = vhi_data['VHI'].min()\n",
    "        vhi_max = vhi_data['VHI'].max()\n",
    "\n",
    "        # Розрахунок середнього та медіани\n",
    "        vhi_mean = round(vhi_data['VHI'].mean(), 2)\n",
    "        vhi_median = round(vhi_data['VHI'].median(), 2)\n",
    "\n",
    "        # Виведення результатів\n",
    "        print(f\"Область: {region_name}\")\n",
    "        print(f\"Мінімум VHI: {vhi_min}\")\n",
    "        print(f\"Максимум VHI: {vhi_max}\")\n",
    "        print(f\"Середнє VHI: {vhi_mean}\")\n",
    "        print(f\"Медіана VHI: {vhi_median}\")\n",
    "    else:\n",
    "        print(\"Немає даних для розрахунків.\")\n"
   ]
  },
  {
   "cell_type": "code",
   "execution_count": 148,
   "metadata": {},
   "outputs": [
    {
     "name": "stdout",
     "output_type": "stream",
     "text": [
      "Область: Вінницька\n",
      "Мінімум VHI: 34.48\n",
      "Максимум VHI: 64.12\n",
      "Середнє VHI: 45.91\n",
      "Медіана VHI: 44.23\n"
     ]
    }
   ],
   "source": [
    "vhi_data = get_vhi_for_region_year('vhi_data', 1, 2020)\n",
    "calculate_extremes_and_statistics(vhi_data, 1)\n"
   ]
  },
  {
   "cell_type": "markdown",
   "metadata": {},
   "source": [
    "#### Вибірка: Ряд VHI за вказаний діапазон років для вказаних областей"
   ]
  },
  {
   "cell_type": "code",
   "execution_count": 168,
   "metadata": {},
   "outputs": [],
   "source": [
    "def get_vhi_for_regions_year_range(folder_path, region_nums, start_year, end_year):\n",
    "    combined_data = data_frame(folder_path)  # Отримуємо всі дані\n",
    "\n",
    "    # Фільтруємо за діапазоном років та областями\n",
    "    vhi_data = combined_data[(combined_data['region_num'].isin(region_nums)) & \n",
    "                              (combined_data['Year'].astype(int) >= start_year) & \n",
    "                              (combined_data['Year'].astype(int) <= end_year)]\n",
    "\n",
    "    return vhi_data[['Year', 'region_num', 'VHI']] if not vhi_data.empty else None"
   ]
  },
  {
   "cell_type": "code",
   "execution_count": 169,
   "metadata": {},
   "outputs": [
    {
     "name": "stdout",
     "output_type": "stream",
     "text": [
      "       Year  region_num    VHI\n",
      "33838  2001           1  36.50\n",
      "33839  2001           1  39.49\n",
      "33840  2001           1  43.40\n",
      "33841  2001           1  42.84\n",
      "33842  2001           1  41.60\n",
      "...     ...         ...    ...\n",
      "49281  2002           3  63.10\n",
      "49282  2002           3  63.30\n",
      "49283  2002           3  64.08\n",
      "49284  2002           3  66.34\n",
      "49285  2002           3  64.59\n",
      "\n",
      "[312 rows x 3 columns]\n"
     ]
    }
   ],
   "source": [
    "vhi_data = get_vhi_for_regions_year_range('vhi_data', [1, 2, 3], 2001, 2002)\n",
    "if vhi_data is not None:\n",
    "    print(vhi_data)\n",
    "else:\n",
    "    print(\"Немає даних для вказаного періоду та областей.\")\n"
   ]
  },
  {
   "cell_type": "markdown",
   "metadata": {},
   "source": [
    "#### Вибірка: Для всього набору даних виявити роки, протягом яких екстремальні посухи торкнулися більше вказаного відсотка областей по Україні (20% областей - 5 областей з 25). Повернути роки, назви областей з екстремальними посухами та значення VHI"
   ]
  },
  {
   "cell_type": "code",
   "execution_count": 170,
   "metadata": {},
   "outputs": [],
   "source": [
    "import pandas as pd\n",
    "\n",
    "def detect_extreme_drought_years(df, vhi_threshold=15, affected_percentage=20):\n",
    "    total_regions = df['region_num'].nunique()\n",
    "    min_affected_regions = int((affected_percentage / 100) * total_regions)\n",
    "    extreme_drought_years = {}\n",
    "\n",
    "    # Фільтрація даних по умовам посухи\n",
    "    extreme_conditions = df[df['VHI'] < vhi_threshold]\n",
    "\n",
    "    # Групування даних за роками та підрахунок кількості областей з екстремальними посухами\n",
    "    drought_counts_by_year = extreme_conditions.groupby('Year')['region_num'].nunique()\n",
    "\n",
    "    for year, affected_count in drought_counts_by_year.items():\n",
    "        if affected_count >= min_affected_regions:\n",
    "            drought_areas = extreme_conditions[extreme_conditions['Year'] == year][['region_num', 'VHI']]\n",
    "            # Використовуємо .drop_duplicates для уникнення дублювання областей\n",
    "            drought_areas = drought_areas.drop_duplicates(subset='region_num')\n",
    "            drought_areas['region_name'] = drought_areas['region_num'].map(regions_true_id)  # Переклад номерів областей у назви\n",
    "            extreme_drought_years[year] = drought_areas[['region_name', 'VHI']]\n",
    "\n",
    "    return extreme_drought_years\n",
    "\n",
    "def format_extreme_drought_output(drought_data):\n",
    "    output = []\n",
    "    for year, drought_areas in drought_data.items():\n",
    "        regions_info = [f\"{row['region_name']} (VHI={row['VHI']:.2f})\" for _, row in drought_areas.iterrows()]\n",
    "        output.append(f\"{year} (Посуха в {len(drought_areas)} областях):\\n\" + \"\\n\".join(regions_info))\n",
    "    return \"\\n\\n\".join(output)\n"
   ]
  },
  {
   "cell_type": "code",
   "execution_count": 171,
   "metadata": {},
   "outputs": [
    {
     "name": "stdout",
     "output_type": "stream",
     "text": [
      "2000 (Посуха в 4 областях):\n",
      "Київська (VHI=12.51)\n",
      "Черкаська (VHI=14.64)\n",
      "Вінницька (VHI=12.26)\n",
      "Харківська (VHI=14.61)\n",
      "\n",
      "2007 (Посуха в 5 областях):\n",
      "Миколаївська (VHI=11.44)\n",
      "Одеська (VHI=11.88)\n",
      "Закарпатська (VHI=14.26)\n",
      "Республіка Крим (VHI=14.98)\n",
      "Херсонська (VHI=12.41)\n"
     ]
    }
   ],
   "source": [
    "drought_data = detect_extreme_drought_years(data_frame('vhi_data'), vhi_threshold=15, affected_percentage=20)\n",
    "\n",
    "if drought_data:\n",
    "    print(format_extreme_drought_output(drought_data))\n",
    "else:\n",
    "    print(\"Не було років, коли більше 5 областей пережили екстремальні посухи.\")"
   ]
  }
 ],
 "metadata": {
  "kernelspec": {
   "display_name": "Python 3",
   "language": "python",
   "name": "python3"
  },
  "language_info": {
   "codemirror_mode": {
    "name": "ipython",
    "version": 3
   },
   "file_extension": ".py",
   "mimetype": "text/x-python",
   "name": "python",
   "nbconvert_exporter": "python",
   "pygments_lexer": "ipython3",
   "version": "3.11.9"
  }
 },
 "nbformat": 4,
 "nbformat_minor": 2
}
